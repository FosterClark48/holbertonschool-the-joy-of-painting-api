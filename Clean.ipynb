{
 "cells": [
  {
   "cell_type": "code",
   "execution_count": 1,
   "metadata": {},
   "outputs": [],
   "source": [
    "import pandas as pd\n",
    "\n",
    "pd.set_option('display.max_columns', None)\n",
    "pd.set_option('display.max_rows', 10)\n"
   ]
  },
  {
   "cell_type": "code",
   "execution_count": 2,
   "metadata": {},
   "outputs": [],
   "source": [
    "episodes = pd.read_csv('Datasets/episodes.csv')\n",
    "paintings = pd.read_csv('Datasets/paintings.csv')\n",
    "dates = pd.read_fwf('Datasets/dates', header = None)\n"
   ]
  },
  {
   "cell_type": "code",
   "execution_count": 3,
   "metadata": {},
   "outputs": [],
   "source": [
    "# Rename the existing column to 'combined'\n",
    "dates.rename(columns={0: 'combined'}, inplace=True)\n",
    "\n",
    "# Regex pattern to extract title and date (excluding notes)\n",
    "pattern = r'^\"([^\"]+)\" \\(([^)]+)\\)'\n",
    "\n",
    "# Extract Title and Date  and Notes using regex pattern\n",
    "dates[['Title', 'Date']] = dates['combined'].str.extract(pattern, expand=True)\n",
    "\n",
    "# Convert 'Date' to datetime\n",
    "dates['Date'] = pd.to_datetime(dates['Date'])\n",
    "\n",
    "# Extract the month and create a new 'Month' column\n",
    "dates['Month'] = dates['Date'].dt.month_name()\n",
    "\n",
    "# Drop the 'combined' column\n",
    "dates.drop(columns=['combined'], inplace=True)\n"
   ]
  },
  {
   "cell_type": "code",
   "execution_count": 4,
   "metadata": {},
   "outputs": [],
   "source": [
    "# Convert episode column headers to title case\n",
    "episodes.columns = episodes.columns.str.title()\n",
    "\n",
    "# Rename title headers of episodes and paintings files to all match 'Title'\n",
    "episodes.rename(columns={'TITLE': 'Title'}, inplace=True)\n",
    "paintings.rename(columns={'painting_title': 'Title'}, inplace=True)\n",
    "\n",
    "# Convert episode titles in columns 'Title' for each dataset to title case\n",
    "episodes['Title'] = episodes['Title'].str.title()\n",
    "dates['Title'] = dates['Title'].str.title()\n",
    "paintings['Title'] = paintings['Title'].str.title()\n",
    "\n",
    "# Remove double quotes from the titles in episode DataFrame\n",
    "episodes['Title'] = episodes['Title'].str.replace('\"', '')\n",
    "\n",
    "# Remove carriage return \\r and newline \\n characters and single quotes and square brackets from paintings colors column\n",
    "paintings['colors'] = paintings['colors'].str.replace('\\r\\n', '').str.replace('[\\'\\[\\]]', '', regex=True)\n",
    "\n",
    "# Remove single quotes and square brackets from color_hex column in paintings\n",
    "paintings['color_hex'] = paintings['color_hex'].str.replace('[\\'\\[\\]]', '', regex=True)\n"
   ]
  },
  {
   "cell_type": "code",
   "execution_count": 5,
   "metadata": {},
   "outputs": [],
   "source": [
    "# Merge episodes and paintings\n",
    "merged_df = pd.merge(dates, paintings, on='Title')\n",
    "\n",
    "# Merge the result with dates DataFrame\n",
    "final_df = pd.merge(merged_df, episodes, on='Title')\n",
    "\n",
    "# Drop unnecessary columns season, episode and unnamed\n",
    "final_df.drop(columns=['season', 'episode', 'Unnamed: 0'], inplace=True)\n",
    "\n",
    "# Save to new CSV\n",
    "final_df.to_csv('joyofpainting.csv', index=False)\n"
   ]
  }
 ],
 "metadata": {
  "kernelspec": {
   "display_name": "Python 3",
   "language": "python",
   "name": "python3"
  },
  "language_info": {
   "codemirror_mode": {
    "name": "ipython",
    "version": 3
   },
   "file_extension": ".py",
   "mimetype": "text/x-python",
   "name": "python",
   "nbconvert_exporter": "python",
   "pygments_lexer": "ipython3",
   "version": "3.11.2"
  }
 },
 "nbformat": 4,
 "nbformat_minor": 2
}

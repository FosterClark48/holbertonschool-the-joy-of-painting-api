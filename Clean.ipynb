{
 "cells": [
  {
   "cell_type": "code",
   "execution_count": 1,
   "metadata": {},
   "outputs": [],
   "source": [
    "import pandas as pd\n",
    "import ast\n",
    "\n",
    "pd.set_option('display.max_columns', None)\n",
    "pd.set_option('display.max_rows', 10)\n"
   ]
  },
  {
   "cell_type": "code",
   "execution_count": 2,
   "metadata": {},
   "outputs": [],
   "source": [
    "episodes = pd.read_csv('Datasets/episodes.csv')\n",
    "paintings = pd.read_csv('Datasets/paintings.csv')\n",
    "dates = pd.read_fwf('Datasets/dates', header = None)\n"
   ]
  },
  {
   "cell_type": "code",
   "execution_count": 3,
   "metadata": {},
   "outputs": [],
   "source": [
    "# Rename the existing column to 'combined'\n",
    "dates.rename(columns={0: 'combined'}, inplace=True)\n",
    "\n",
    "# Regex pattern to extract title and date (excluding notes)\n",
    "pattern = r'^\"([^\"]+)\" \\(([^)]+)\\)'\n",
    "\n",
    "# Extract Title and Date  and Notes using regex pattern\n",
    "dates[['Title', 'Date']] = dates['combined'].str.extract(pattern, expand=True)\n",
    "\n",
    "# Convert 'Date' to datetime\n",
    "dates['Date'] = pd.to_datetime(dates['Date'])\n",
    "\n",
    "# Extract the month and create a new 'Month' column\n",
    "dates['Month'] = dates['Date'].dt.month_name()\n",
    "\n",
    "# Drop the 'combined' column\n",
    "dates.drop(columns=['combined'], inplace=True)\n"
   ]
  },
  {
   "cell_type": "code",
   "execution_count": 4,
   "metadata": {},
   "outputs": [],
   "source": [
    "# Convert episode column headers to title case\n",
    "episodes.columns = episodes.columns.str.title()\n",
    "\n",
    "# Rename title headers of episodes and paintings files to all match 'Title'\n",
    "episodes.rename(columns={'TITLE': 'Title'}, inplace=True)\n",
    "paintings.rename(columns={'painting_title': 'Title'}, inplace=True)\n",
    "\n",
    "# Convert episode titles in columns 'Title' for each dataset to title case\n",
    "episodes['Title'] = episodes['Title'].str.title()\n",
    "dates['Title'] = dates['Title'].str.title()\n",
    "paintings['Title'] = paintings['Title'].str.title()\n",
    "\n",
    "# Remove double quotes from the titles in episode DataFrame\n",
    "episodes['Title'] = episodes['Title'].str.replace('\"', '')\n",
    "\n",
    "# Evaluate string as a literal list\n",
    "paintings['colors'] = paintings['colors'].apply(ast.literal_eval)\n",
    "\n",
    "# Remove carriage return and newline characters\n",
    "paintings['colors'] = paintings['colors'].apply(lambda x: [color.replace('\\r\\n', '') for color in x])\n",
    "\n",
    "# Convert list back into string\n",
    "paintings['colors'] = paintings['colors'].apply(str)\n",
    "\n",
    "# Remove single quotes and square brackets from paintings 'colors' column\n",
    "paintings['colors'] = paintings['colors'].str.replace('[\\'\\[\\]]', '', regex=True)\n",
    "\n",
    "# Remove single quotes and square brackets from 'color_hex' column in paintings\n",
    "paintings['color_hex'] = paintings['color_hex'].str.replace('[\\'\\[\\]]', '', regex=True)\n",
    "\n",
    "\n"
   ]
  },
  {
   "cell_type": "code",
   "execution_count": 5,
   "metadata": {},
   "outputs": [],
   "source": [
    "# List of frame columns\n",
    "frame_columns = [\n",
    "    \"Apple_Frame\", \"Circle_Frame\", \"Double_Oval_Frame\", \"Florida_Frame\", \"Framed\",\n",
    "    \"Half_Circle_Frame\", \"Half_Oval_Frame\", \"Oval_Frame\", \"Rectangle_3D_Frame\",\n",
    "    \"Rectangular_Frame\", \"Seashell_Frame\", \"Split_Frame\", \"Tomb_Frame\", \"Triple_Frame\", \"Wood_Framed\"\n",
    "]\n",
    "\n",
    "# Function to identify used frames\n",
    "def identify_frames(row):\n",
    "    used_frames = [frame for frame in frame_columns if row[frame] == 1]\n",
    "    return ', '.join(used_frames) if used_frames else 'None'\n",
    "\n",
    "  # Apply the function to the episodes DataFrame\n",
    "episodes['Frame'] = episodes.apply(identify_frames, axis=1)\n",
    "\n"
   ]
  },
  {
   "cell_type": "code",
   "execution_count": 6,
   "metadata": {},
   "outputs": [],
   "source": [
    "# Merge episodes and paintings\n",
    "merged_df = pd.merge(dates, paintings, on='Title')\n",
    "\n",
    "# Merge the result with dates DataFrame\n",
    "final_df = pd.merge(merged_df, episodes, on='Title')\n",
    "\n",
    "# Drop unnecessary columns season, episode, unnamed, and the frame_columns\n",
    "final_df.drop(columns=['season', 'episode', 'Unnamed: 0',] + frame_columns, inplace=True)\n",
    "\n",
    "# Order columns\n",
    "ordered_columns = [\n",
    "  'Title', 'Date', 'Month', 'Episode', 'painting_index', 'img_src', 'youtube_src',\n",
    "  'num_colors', 'colors', 'color_hex', 'Frame', 'Black_Gesso', 'Bright_Red', 'Burnt_Umber',\n",
    "  'Cadmium_Yellow', 'Dark_Sienna', 'Indian_Red', 'Indian_Yellow', 'Liquid_Black',\n",
    "  'Liquid_Clear', 'Midnight_Black', 'Phthalo_Blue', 'Phthalo_Green', 'Prussian_Blue',\n",
    "  'Sap_Green', 'Titanium_White', 'Van_Dyke_Brown', 'Yellow_Ochre', 'Alizarin_Crimson',\n",
    "  'Aurora_Borealis', 'Barn', 'Beach', 'Boat', 'Bridge', 'Building', 'Bushes', 'Cabin',\n",
    "  'Cactus', 'Cirrus', 'Cliff', 'Clouds', 'Conifer', 'Cumulus', 'Deciduous', 'Diane_Andre',\n",
    "  'Dock', 'Farm', 'Fence', 'Fire', 'Flowers', 'Fog', 'Grass', 'Guest', 'Hills', 'Lake',\n",
    "  'Lakes', 'Lighthouse', 'Mill', 'Moon', 'Mountain', 'Mountains', 'Night', 'Ocean',\n",
    "  'Palm_Trees', 'Path', 'Person', 'Portrait', 'River', 'Rocks', 'Snow', 'Snowy_Mountain',\n",
    "  'Steve_Ross', 'Structure', 'Sun', 'Tree', 'Trees', 'Waterfall', 'Waves', 'Windmill', 'Winter']\n",
    "final_df = final_df[ordered_columns]\n",
    "\n",
    "# Save to new CSV\n",
    "final_df.to_csv('joyofpainting.csv', index=False)\n"
   ]
  }
 ],
 "metadata": {
  "kernelspec": {
   "display_name": "Python 3",
   "language": "python",
   "name": "python3"
  },
  "language_info": {
   "codemirror_mode": {
    "name": "ipython",
    "version": 3
   },
   "file_extension": ".py",
   "mimetype": "text/x-python",
   "name": "python",
   "nbconvert_exporter": "python",
   "pygments_lexer": "ipython3",
   "version": "3.11.2"
  }
 },
 "nbformat": 4,
 "nbformat_minor": 2
}
